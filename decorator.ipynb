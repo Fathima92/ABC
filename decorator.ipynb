{
  "nbformat": 4,
  "nbformat_minor": 0,
  "metadata": {
    "colab": {
      "provenance": [],
      "toc_visible": true,
      "authorship_tag": "ABX9TyOTxhY33bCatHLJqod12J96",
      "include_colab_link": true
    },
    "kernelspec": {
      "name": "python3",
      "display_name": "Python 3"
    },
    "language_info": {
      "name": "python"
    }
  },
  "cells": [
    {
      "cell_type": "markdown",
      "metadata": {
        "id": "view-in-github",
        "colab_type": "text"
      },
      "source": [
        "<a href=\"https://colab.research.google.com/github/Fathima92/ABC/blob/main/decorator.ipynb\" target=\"_parent\"><img src=\"https://colab.research.google.com/assets/colab-badge.svg\" alt=\"Open In Colab\"/></a>"
      ]
    },
    {
      "cell_type": "code",
      "execution_count": null,
      "metadata": {
        "id": "MpnE51qrSYLC"
      },
      "outputs": [],
      "source": []
    },
    {
      "cell_type": "markdown",
      "source": [
        "# New Section"
      ],
      "metadata": {
        "id": "tbdjsX-xSeSg"
      }
    },
    {
      "cell_type": "code",
      "source": [
        "def add(func):\n",
        "  def wrap():\n",
        "    func()\n",
        "  return wrap\n",
        "\n",
        "def operation():\n",
        "  print(\"hello\")\n",
        "\n",
        "opt = add(operation)\n",
        "print(opt)\n",
        "operation()"
      ],
      "metadata": {
        "colab": {
          "base_uri": "https://localhost:8080/"
        },
        "id": "KBunrTEeVVYP",
        "outputId": "b1521ce0-b8de-4d38-ae60-d8d38a7a624e"
      },
      "execution_count": 21,
      "outputs": [
        {
          "output_type": "stream",
          "name": "stdout",
          "text": [
            "<function add.<locals>.wrap at 0x7f377b209c60>\n",
            "hello\n"
          ]
        }
      ]
    },
    {
      "cell_type": "code",
      "source": [
        "def add(func):\n",
        "  def wrap(*args):\n",
        "    print(\"Welcome\")\n",
        "    func(*args)\n",
        "  return wrap\n",
        "\n",
        "@add\n",
        "def operation(t1,t2,t3):\n",
        "  print(\"hello\")\n",
        "  print(t1,t2,t3)\n",
        "\n",
        "\n",
        "operation(\"A\",\"B\",\"C\")\n"
      ],
      "metadata": {
        "colab": {
          "base_uri": "https://localhost:8080/"
        },
        "id": "jz200WAqWok2",
        "outputId": "35716782-2260-49d5-d0f6-0ca9b0bca83e"
      },
      "execution_count": 28,
      "outputs": [
        {
          "output_type": "stream",
          "name": "stdout",
          "text": [
            "Welcome\n",
            "hello\n",
            "A B C\n"
          ]
        }
      ]
    },
    {
      "cell_type": "code",
      "source": [
        "def add(func):\n",
        "  def wrap(*args):\n",
        "    print(\"Welcome\")\n",
        "    return func(*args)\n",
        "  return wrap\n",
        "\n",
        "@add\n",
        "def operation(n1,n2):\n",
        "  return n1 + n2\n",
        "\n",
        "\n",
        "operation(2,3)"
      ],
      "metadata": {
        "colab": {
          "base_uri": "https://localhost:8080/"
        },
        "id": "914aEIPYYrpE",
        "outputId": "1438191e-d07e-4a42-fe58-0563126a900a"
      },
      "execution_count": 29,
      "outputs": [
        {
          "output_type": "stream",
          "name": "stdout",
          "text": [
            "Welcome\n"
          ]
        },
        {
          "output_type": "execute_result",
          "data": {
            "text/plain": [
              "5"
            ]
          },
          "metadata": {},
          "execution_count": 29
        }
      ]
    },
    {
      "cell_type": "code",
      "source": [
        "def add(func):\n",
        "  def wrap(*args):\n",
        "    a = 0\n",
        "    for sum in args:\n",
        "      a = a + sum\n",
        "    return func(\"Addition \",a)\n",
        "  return wrap\n",
        "\n",
        "@add\n",
        "def operation(opt,res):\n",
        "  return opt + \"Gives \" + str(res)\n",
        "\n",
        "\n",
        "operation(2,3)"
      ],
      "metadata": {
        "colab": {
          "base_uri": "https://localhost:8080/",
          "height": 36
        },
        "id": "g2GNRICYZj_E",
        "outputId": "569a768c-bdd7-4466-ade7-e435f578f5d9"
      },
      "execution_count": 37,
      "outputs": [
        {
          "output_type": "execute_result",
          "data": {
            "text/plain": [
              "'Addition Gives 5'"
            ],
            "application/vnd.google.colaboratory.intrinsic+json": {
              "type": "string"
            }
          },
          "metadata": {},
          "execution_count": 37
        }
      ]
    },
    {
      "cell_type": "code",
      "source": [],
      "metadata": {
        "id": "Q9QypnFgXauO"
      },
      "execution_count": null,
      "outputs": []
    },
    {
      "cell_type": "code",
      "source": [
        "def add(func):\n",
        "  def wrap(*args):\n",
        "    a = 0\n",
        "    for sum in args:\n",
        "      a = a + sum\n",
        "    return func(\"Addition \",a)\n",
        "  return wrap\n",
        "\n",
        "def multiply (func):\n",
        "  def wrap(*args):\n",
        "    m = 1\n",
        "    for mul in args:\n",
        "      m = m * mul\n",
        "    return func(\"Multiplication \",m)\n",
        "  return wrap\n",
        "\n",
        "\n",
        "@multiply\n",
        "def operation(opt,res):\n",
        "  return opt + \"Gives \" + str(res)\n",
        "\n",
        "operation(2,3)\n"
      ],
      "metadata": {
        "colab": {
          "base_uri": "https://localhost:8080/",
          "height": 36
        },
        "id": "C5hREIHjSfmA",
        "outputId": "f385a05c-8621-4d81-fe75-17fb789cb473"
      },
      "execution_count": 45,
      "outputs": [
        {
          "output_type": "execute_result",
          "data": {
            "text/plain": [
              "'Multiplication Gives 6'"
            ],
            "application/vnd.google.colaboratory.intrinsic+json": {
              "type": "string"
            }
          },
          "metadata": {},
          "execution_count": 45
        }
      ]
    },
    {
      "cell_type": "code",
      "source": [
        "def my_decorator(func):\n",
        "    def wrapper(*args, **kwargs):\n",
        "        result = func(*args, **kwargs)\n",
        "        return result\n",
        "    return wrapper\n",
        "\n",
        "def my_decorator(func):\n",
        "    def wrapper(*args, **kwargs):\n",
        "        result = func(*args, **kwargs)\n",
        "        return result\n",
        "    return wrapper\n",
        "\n",
        "@my_decorator\n",
        "def add(a, b):\n",
        "    return a + b\n",
        "\n",
        "\n",
        "result = add(5, 10)\n",
        "print(f\"Result: {result}\")\n"
      ],
      "metadata": {
        "colab": {
          "base_uri": "https://localhost:8080/"
        },
        "id": "-E92v7Q7UP1p",
        "outputId": "77cfaff5-9692-4163-c502-cc9c4b80452a"
      },
      "execution_count": 18,
      "outputs": [
        {
          "output_type": "stream",
          "name": "stdout",
          "text": [
            "Result: 15\n"
          ]
        }
      ]
    },
    {
      "cell_type": "code",
      "source": [
        "import time\n",
        "\n",
        "def timing_decorator(func):\n",
        "    def wrapper(*args, **kwargs):\n",
        "        start_time = time.time()\n",
        "        result = func(*args, **kwargs)\n",
        "        end_time = time.time()\n",
        "        print(f\"{func.__name__} took {end_time - start_time:.4f} seconds to execute\")\n",
        "        return result\n",
        "    return wrapper\n",
        "\n",
        "@timing_decorator\n",
        "def slow_function():\n",
        "\n",
        "    time.sleep(2)\n",
        "\n",
        "slow_function()\n"
      ],
      "metadata": {
        "colab": {
          "base_uri": "https://localhost:8080/"
        },
        "id": "Tl6FbIr-f5UO",
        "outputId": "4c6f3202-be33-4d0a-d46c-3d56f24e3bfd"
      },
      "execution_count": 51,
      "outputs": [
        {
          "output_type": "stream",
          "name": "stdout",
          "text": [
            "slow_function took 2.0021 seconds to execute\n"
          ]
        }
      ]
    }
  ]
}